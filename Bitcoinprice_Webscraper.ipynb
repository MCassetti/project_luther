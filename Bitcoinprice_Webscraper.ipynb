{
 "cells": [
  {
   "cell_type": "code",
   "execution_count": 289,
   "metadata": {},
   "outputs": [
    {
     "data": {
      "text/plain": [
       "['https://coinmarketcap.com/historical/20170709/']"
      ]
     },
     "execution_count": 289,
     "metadata": {},
     "output_type": "execute_result"
    }
   ],
   "source": [
    "from bs4 import BeautifulSoup\n",
    "import requests \n",
    "from fuzzywuzzy import fuzz\n",
    "from fuzzywuzzy import process\n",
    "from datetime import datetime\n",
    "\n",
    "\n",
    "\n",
    "def find_crypto_information(soup):\n",
    "    \n",
    "    data = []    \n",
    "    date_str = soup.find('h1').text.strip('\\n').split('-')\n",
    "    date = datetime.strptime(date_str[1], ' %B %d, %Y')\n",
    "    table = soup.find('table', id='currencies-all')\n",
    "    rows = table.find_all('tbody')   \n",
    "    for row in rows:\n",
    "        try:\n",
    "            symbol = row.find('td', class_='text-left col-symbol').text\n",
    "            price = row.find('a', class_='price').text\n",
    "        except AttributeError:\n",
    "            print('error')\n",
    "            continue\n",
    "            \n",
    "        data.append([symbol, price,date])\n",
    "        \n",
    "    return data\n",
    "\n",
    "#Only stores historical links\n",
    "def get_urls(soup):\n",
    "    urls = []\n",
    "    url_base = 'https://coinmarketcap.com' \n",
    "    for link in soup.find_all('a',href=True):\n",
    "        link_text = link['href']\n",
    "        if fuzz.partial_ratio('/historical/201',link_text) == 100 and \\\n",
    "            fuzz.partial_ratio('/201',link_text) == 100 and link_text!='/':\n",
    "            urls.append(url_base + link_text)\n",
    "    return urls\n",
    "\n",
    "def downsample_dates(urls,range1,range2):\n",
    "    new_list = []\n",
    "    for url in urls:\n",
    "        if fuzz.partial_ratio(url,range1) != 100 | \\\n",
    "           fuzz.partial_ratio(url,range2) != 100 :\n",
    "            continue\n",
    "        new_list.append(url)\n",
    "        return new_list\n",
    "        \n",
    "\n",
    "r = requests.get('https://coinmarketcap.com/historical/')\n",
    "soup = BeautifulSoup(r.text, 'html5lib')    \n",
    "urls = get_urls(soup)\n",
    "range1 = '20180708'\n",
    "range2 = '20170709'\n",
    "downsample_dates(urls,range1,range2)"
   ]
  },
  {
   "cell_type": "code",
   "execution_count": 290,
   "metadata": {},
   "outputs": [],
   "source": [
    "#Now get the historical prices"
   ]
  },
  {
   "cell_type": "code",
   "execution_count": null,
   "metadata": {},
   "outputs": [],
   "source": [
    "\n",
    "price_data = []\n",
    "for url in urls:\n",
    "    r = requests.get(url)\n",
    "    soup = BeautifulSoup(r.text, 'html5lib')\n",
    "    output = find_crypto_information(soup)\n",
    "    print(output)\n",
    "        \n",
    "        \n",
    "    "
   ]
  },
  {
   "cell_type": "code",
   "execution_count": null,
   "metadata": {},
   "outputs": [],
   "source": []
  },
  {
   "cell_type": "code",
   "execution_count": null,
   "metadata": {},
   "outputs": [],
   "source": []
  },
  {
   "cell_type": "code",
   "execution_count": null,
   "metadata": {},
   "outputs": [],
   "source": []
  },
  {
   "cell_type": "code",
   "execution_count": null,
   "metadata": {},
   "outputs": [],
   "source": []
  }
 ],
 "metadata": {
  "kernelspec": {
   "display_name": "Python 3",
   "language": "python",
   "name": "python3"
  },
  "language_info": {
   "codemirror_mode": {
    "name": "ipython",
    "version": 3
   },
   "file_extension": ".py",
   "mimetype": "text/x-python",
   "name": "python",
   "nbconvert_exporter": "python",
   "pygments_lexer": "ipython3",
   "version": "3.6.5"
  }
 },
 "nbformat": 4,
 "nbformat_minor": 2
}
