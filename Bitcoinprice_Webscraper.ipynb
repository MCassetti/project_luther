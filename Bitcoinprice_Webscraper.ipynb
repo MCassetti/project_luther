{
 "cells": [
  {
   "cell_type": "code",
   "execution_count": 60,
   "metadata": {},
   "outputs": [],
   "source": [
    "from bs4 import BeautifulSoup\n",
    "import requests \n",
    "import pandas as pd\n",
    "from fuzzywuzzy import fuzz\n",
    "from fuzzywuzzy import process\n",
    "from datetime import datetime\n",
    "from datetime import date,timedelta\n",
    "\n",
    "\n",
    "\n",
    "def find_crypto_information(soup):\n",
    "    # get this to work for all cryptocurrencies for future use. \n",
    "    data = []    \n",
    "    date_str = soup.find('h1').text.strip('\\n').split('-')\n",
    "    date = datetime.strptime(date_str[1], ' %B %d, %Y')\n",
    "\n",
    "    table = soup.find('table', id='currencies-all')\n",
    "    rows = table.find_all('tbody')   \n",
    "    for row in rows:\n",
    "        try:\n",
    "            symbol = row.find('td', class_='text-left col-symbol').text\n",
    "            price = row.find('a', class_='price').text\n",
    "        except AttributeError:\n",
    "            print('error')\n",
    "            continue\n",
    "\n",
    "        data.append([symbol, price, date])\n",
    "        \n",
    "    return data\n",
    "\n",
    "#Only stores historical links\n",
    "def get_urls(soup):\n",
    "    urls = []\n",
    "    url_base = 'https://coinmarketcap.com' \n",
    "    for link in soup.find_all('a',href=True):\n",
    "        link_text = link['href']\n",
    "        if fuzz.partial_ratio('/historical/201',link_text) == 100 and \\\n",
    "            fuzz.partial_ratio('/201',link_text) == 100 and link_text!='/':\n",
    "            urls.append(url_base + link_text)\n",
    "    return urls\n",
    "\n",
    "r = requests.get('https://coinmarketcap.com/historical/')\n",
    "soup = BeautifulSoup(r.text, 'html5lib')    \n",
    "urls = get_urls(soup)\n",
    "\n"
   ]
  },
  {
   "cell_type": "code",
   "execution_count": 59,
   "metadata": {},
   "outputs": [],
   "source": [
    "#Now get the historical prices\n",
    "new_urls = []\n",
    "for url in urls:\n",
    "    tmp = url.split('/')\n",
    "    date = datetime.strptime(tmp[-2],'%Y%m%d')\n",
    "    \n",
    "    end_date = date.today()\n",
    "    start_date = end_date - timedelta(days=370)\n",
    "    if date >= start_date:\n",
    "        new_urls.append(url)\n",
    "        "
   ]
  },
  {
   "cell_type": "code",
   "execution_count": 65,
   "metadata": {},
   "outputs": [
    {
     "name": "stdout",
     "output_type": "stream",
     "text": [
      "[['BTC', '$2582.68', datetime.datetime(2017, 7, 9, 0, 0)]]\n",
      "[['BTC', '$1995.52', datetime.datetime(2017, 7, 16, 0, 0)]]\n",
      "[['BTC', '$2763.20', datetime.datetime(2017, 7, 23, 0, 0)]]\n",
      "[['BTC', '$2689.44', datetime.datetime(2017, 7, 30, 0, 0)]]\n",
      "[['BTC', '$3214.71', datetime.datetime(2017, 8, 6, 0, 0)]]\n",
      "[['BTC', '$4071.58', datetime.datetime(2017, 8, 13, 0, 0)]]\n",
      "[['BTC', '$4131.82', datetime.datetime(2017, 8, 20, 0, 0)]]\n",
      "[['BTC', '$4358.81', datetime.datetime(2017, 8, 27, 0, 0)]]\n",
      "[['BTC', '$4632.25', datetime.datetime(2017, 9, 3, 0, 0)]]\n",
      "[['BTC', '$4083.70', datetime.datetime(2017, 9, 10, 0, 0)]]\n",
      "[['BTC', '$3536.84', datetime.datetime(2017, 9, 17, 0, 0)]]\n",
      "[['BTC', '$3725.65', datetime.datetime(2017, 9, 24, 0, 0)]]\n",
      "[['BTC', '$4318.34', datetime.datetime(2017, 10, 1, 0, 0)]]\n",
      "[['BTC', '$4438.85', datetime.datetime(2017, 10, 8, 0, 0)]]\n",
      "[['BTC', '$5729.63', datetime.datetime(2017, 10, 15, 0, 0)]]\n",
      "[['BTC', '$5933.34', datetime.datetime(2017, 10, 22, 0, 0)]]\n",
      "[['BTC', '$5779.54', datetime.datetime(2017, 10, 29, 0, 0)]]\n",
      "[['BTC', '$7430.13', datetime.datetime(2017, 11, 5, 0, 0)]]\n",
      "[['BTC', '$6118.55', datetime.datetime(2017, 11, 12, 0, 0)]]\n",
      "[['BTC', '$7779.97', datetime.datetime(2017, 11, 19, 0, 0)]]\n",
      "[['BTC', '$8944.60', datetime.datetime(2017, 11, 26, 0, 0)]]\n",
      "[['BTC', '$11177.76', datetime.datetime(2017, 12, 3, 0, 0)]]\n",
      "[['BTC', '$13916.79', datetime.datetime(2017, 12, 10, 0, 0)]]\n",
      "[['BTC', '$19528.93', datetime.datetime(2017, 12, 17, 0, 0)]]\n",
      "[['BTC', '$14057.19', datetime.datetime(2017, 12, 24, 0, 0)]]\n",
      "[['BTC', '$13170.18', datetime.datetime(2017, 12, 31, 0, 0)]]\n",
      "[['BTC', '$17131.27', datetime.datetime(2018, 1, 7, 0, 0)]]\n",
      "[['BTC', '$14086.59', datetime.datetime(2018, 1, 14, 0, 0)]]\n",
      "[['BTC', '$12326.62', datetime.datetime(2018, 1, 21, 0, 0)]]\n",
      "[['BTC', '$11746.95', datetime.datetime(2018, 1, 28, 0, 0)]]\n",
      "[['BTC', '$9087.68', datetime.datetime(2018, 2, 4, 0, 0)]]\n",
      "[['BTC', '$8165.66', datetime.datetime(2018, 2, 11, 0, 0)]]\n",
      "[['BTC', '$10854.30', datetime.datetime(2018, 2, 18, 0, 0)]]\n",
      "[['BTC', '$9790.46', datetime.datetime(2018, 2, 25, 0, 0)]]\n",
      "[['BTC', '$11280.03', datetime.datetime(2018, 3, 4, 0, 0)]]\n",
      "[['BTC', '$8776.50', datetime.datetime(2018, 3, 11, 0, 0)]]\n",
      "[['BTC', '$7720.85', datetime.datetime(2018, 3, 18, 0, 0)]]\n",
      "[['BTC', '$8567.85', datetime.datetime(2018, 3, 25, 0, 0)]]\n",
      "[['BTC', '$6895.74', datetime.datetime(2018, 4, 1, 0, 0)]]\n",
      "[['BTC', '$6972.93', datetime.datetime(2018, 4, 8, 0, 0)]]\n",
      "[['BTC', '$8096.05', datetime.datetime(2018, 4, 15, 0, 0)]]\n",
      "[['BTC', '$8876.31', datetime.datetime(2018, 4, 22, 0, 0)]]\n",
      "[['BTC', '$9404.55', datetime.datetime(2018, 4, 29, 0, 0)]]\n",
      "[['BTC', '$9751.33', datetime.datetime(2018, 5, 6, 0, 0)]]\n",
      "[['BTC', '$8495.13', datetime.datetime(2018, 5, 13, 0, 0)]]\n",
      "[['BTC', '$8282.89', datetime.datetime(2018, 5, 20, 0, 0)]]\n",
      "[['BTC', '$7328.91', datetime.datetime(2018, 5, 27, 0, 0)]]\n",
      "[['BTC', '$7682.64', datetime.datetime(2018, 6, 3, 0, 0)]]\n",
      "[['BTC', '$7312.89', datetime.datetime(2018, 6, 10, 0, 0)]]\n",
      "[['BTC', '$6565.59', datetime.datetime(2018, 6, 17, 0, 0)]]\n",
      "[['BTC', '$5982.37', datetime.datetime(2018, 6, 24, 0, 0)]]\n",
      "[['BTC', '$6377.87', datetime.datetime(2018, 7, 1, 0, 0)]]\n",
      "[['BTC', '$6831.20', datetime.datetime(2018, 7, 8, 0, 0)]]\n"
     ]
    }
   ],
   "source": [
    "price_data = []\n",
    "\n",
    "for url in new_urls:\n",
    "    r = requests.get(url)\n",
    "    soup = BeautifulSoup(r.text, 'html5lib')\n",
    "    output = find_crypto_information(soup)\n",
    "    print(output)\n",
    "\n",
    "    price_data.append(output)\n",
    "        \n",
    "       \n",
    "    "
   ]
  },
  {
   "cell_type": "code",
   "execution_count": null,
   "metadata": {},
   "outputs": [],
   "source": []
  },
  {
   "cell_type": "code",
   "execution_count": 85,
   "metadata": {},
   "outputs": [],
   "source": [
    "store_price_data = price_data"
   ]
  },
  {
   "cell_type": "code",
   "execution_count": 89,
   "metadata": {},
   "outputs": [],
   "source": [
    "df = pd.DataFrame(store_price_data)\n",
    "df.to_pickle('btc_price.pkl')"
   ]
  },
  {
   "cell_type": "code",
   "execution_count": null,
   "metadata": {},
   "outputs": [],
   "source": []
  },
  {
   "cell_type": "code",
   "execution_count": null,
   "metadata": {},
   "outputs": [],
   "source": []
  }
 ],
 "metadata": {
  "kernelspec": {
   "display_name": "Python 3",
   "language": "python",
   "name": "python3"
  },
  "language_info": {
   "codemirror_mode": {
    "name": "ipython",
    "version": 3
   },
   "file_extension": ".py",
   "mimetype": "text/x-python",
   "name": "python",
   "nbconvert_exporter": "python",
   "pygments_lexer": "ipython3",
   "version": "3.6.5"
  }
 },
 "nbformat": 4,
 "nbformat_minor": 2
}
