{
 "cells": [
  {
   "cell_type": "code",
   "execution_count": 1,
   "metadata": {},
   "outputs": [
    {
     "data": {
      "text/plain": [
       "['https://coinmarketcap.com/historical/20170709/']"
      ]
     },
     "execution_count": 1,
     "metadata": {},
     "output_type": "execute_result"
    }
   ],
   "source": [
    "from bs4 import BeautifulSoup\n",
    "import requests \n",
    "from fuzzywuzzy import fuzz\n",
    "from fuzzywuzzy import process\n",
    "from datetime import datetime\n",
    "\n",
    "\n",
    "\n",
    "def find_crypto_information(soup):\n",
    "    \n",
    "    data = []    \n",
    "    date_str = soup.find('h1').text.strip('\\n').split('-')\n",
    "    date = datetime.strptime(date_str[1], ' %B %d, %Y')\n",
    "    table = soup.find('table', id='currencies-all')\n",
    "    rows = table.find_all('tbody')   \n",
    "    for row in rows:\n",
    "        try:\n",
    "            symbol = row.find('td', class_='text-left col-symbol').text\n",
    "            price = row.find('a', class_='price').text\n",
    "        except AttributeError:\n",
    "            print('error')\n",
    "            continue\n",
    "            \n",
    "        data.append([symbol, price,date])\n",
    "        \n",
    "    return data\n",
    "\n",
    "#Only stores historical links\n",
    "def get_urls(soup):\n",
    "    urls = []\n",
    "    url_base = 'https://coinmarketcap.com' \n",
    "    for link in soup.find_all('a',href=True):\n",
    "        link_text = link['href']\n",
    "        if fuzz.partial_ratio('/historical/201',link_text) == 100 and \\\n",
    "            fuzz.partial_ratio('/201',link_text) == 100 and link_text!='/':\n",
    "            urls.append(url_base + link_text)\n",
    "    return urls\n",
    "\n",
    "r = requests.get('https://coinmarketcap.com/historical/')\n",
    "soup = BeautifulSoup(r.text, 'html5lib')    \n",
    "urls = get_urls(soup)\n",
    "range1 = '20180708'\n",
    "range2 = '20170709'\n"
   ]
  },
  {
   "cell_type": "code",
   "execution_count": 2,
   "metadata": {},
   "outputs": [],
   "source": [
    "#Now get the historical prices"
   ]
  },
  {
   "cell_type": "code",
   "execution_count": null,
   "metadata": {},
   "outputs": [
    {
     "name": "stdout",
     "output_type": "stream",
     "text": [
      "[['BTC', '$135.58', datetime.datetime(2013, 4, 28, 0, 0)]]\n",
      "[['BTC', '$113.46', datetime.datetime(2013, 5, 5, 0, 0)]]\n",
      "[['BTC', '$116.07', datetime.datetime(2013, 5, 12, 0, 0)]]\n",
      "[['BTC', '$123.10', datetime.datetime(2013, 5, 19, 0, 0)]]\n",
      "[['BTC', '$131.96', datetime.datetime(2013, 5, 26, 0, 0)]]\n",
      "[['BTC', '$126.90', datetime.datetime(2013, 6, 2, 0, 0)]]\n",
      "[['BTC', '$101.79', datetime.datetime(2013, 6, 9, 0, 0)]]\n",
      "[['BTC', '$100.16', datetime.datetime(2013, 6, 16, 0, 0)]]\n",
      "[['BTC', '$107.73', datetime.datetime(2013, 6, 23, 0, 0)]]\n",
      "[['BTC', '$95.62', datetime.datetime(2013, 6, 30, 0, 0)]]\n",
      "[['BTC', '$68.10', datetime.datetime(2013, 7, 7, 0, 0)]]\n",
      "[['BTC', '$96.02', datetime.datetime(2013, 7, 14, 0, 0)]]\n",
      "[['BTC', '$90.05', datetime.datetime(2013, 7, 21, 0, 0)]]\n",
      "[['BTC', '$94.88', datetime.datetime(2013, 7, 28, 0, 0)]]\n",
      "[['BTC', '$104.45', datetime.datetime(2013, 8, 4, 0, 0)]]\n",
      "[['BTC', '$103.62', datetime.datetime(2013, 8, 11, 0, 0)]]\n",
      "[['BTC', '$112.86', datetime.datetime(2013, 8, 18, 0, 0)]]\n",
      "[['BTC', '$120.36', datetime.datetime(2013, 8, 25, 0, 0)]]\n",
      "[['BTC', '$136.65', datetime.datetime(2013, 9, 1, 0, 0)]]\n",
      "[['BTC', '$123.65', datetime.datetime(2013, 9, 8, 0, 0)]]\n",
      "[['BTC', '$129.11', datetime.datetime(2013, 9, 15, 0, 0)]]\n",
      "[['BTC', '$127.93', datetime.datetime(2013, 9, 22, 0, 0)]]\n",
      "[['BTC', '$138.13', datetime.datetime(2013, 9, 29, 0, 0)]]\n",
      "[['BTC', '$128.11', datetime.datetime(2013, 10, 6, 0, 0)]]\n",
      "[['BTC', '$135.19', datetime.datetime(2013, 10, 13, 0, 0)]]\n",
      "[['BTC', '$171.90', datetime.datetime(2013, 10, 20, 0, 0)]]\n",
      "[['BTC', '$181.17', datetime.datetime(2013, 10, 27, 0, 0)]]\n",
      "[['BTC', '$205.67', datetime.datetime(2013, 11, 3, 0, 0)]]\n",
      "[['BTC', '$316.81', datetime.datetime(2013, 11, 10, 0, 0)]]\n",
      "[['BTC', '$457.51', datetime.datetime(2013, 11, 17, 0, 0)]]\n",
      "[['BTC', '$760.70', datetime.datetime(2013, 11, 24, 0, 0)]]\n",
      "[['BTC', '$1083.14', datetime.datetime(2013, 12, 1, 0, 0)]]\n",
      "[['BTC', '$724.13', datetime.datetime(2013, 12, 8, 0, 0)]]\n",
      "[['BTC', '$849.68', datetime.datetime(2013, 12, 15, 0, 0)]]\n",
      "[['BTC', '$618.97', datetime.datetime(2013, 12, 22, 0, 0)]]\n",
      "[['BTC', '$724.05', datetime.datetime(2013, 12, 29, 0, 0)]]\n",
      "[['BTC', '$864.89', datetime.datetime(2014, 1, 5, 0, 0)]]\n",
      "[['BTC', '$903.28', datetime.datetime(2014, 1, 12, 0, 0)]]\n",
      "[['BTC', '$833.37', datetime.datetime(2014, 1, 19, 0, 0)]]\n",
      "[['BTC', '$853.45', datetime.datetime(2014, 1, 26, 0, 0)]]\n",
      "[['BTC', '$836.01', datetime.datetime(2014, 2, 2, 0, 0)]]\n",
      "[['BTC', '$673.80', datetime.datetime(2014, 2, 9, 0, 0)]]\n",
      "[['BTC', '$651.99', datetime.datetime(2014, 2, 16, 0, 0)]]\n",
      "[['BTC', '$616.75', datetime.datetime(2014, 2, 23, 0, 0)]]\n",
      "[['BTC', '$565.11', datetime.datetime(2014, 3, 2, 0, 0)]]\n",
      "[['BTC', '$617.61', datetime.datetime(2014, 3, 9, 0, 0)]]\n",
      "[['BTC', '$634.88', datetime.datetime(2014, 3, 16, 0, 0)]]\n",
      "[['BTC', '$565.00', datetime.datetime(2014, 3, 23, 0, 0)]]\n",
      "[['BTC', '$480.68', datetime.datetime(2014, 3, 30, 0, 0)]]\n",
      "[['BTC', '$462.01', datetime.datetime(2014, 4, 6, 0, 0)]]\n",
      "[['BTC', '$424.00', datetime.datetime(2014, 4, 13, 0, 0)]]\n",
      "[['BTC', '$505.44', datetime.datetime(2014, 4, 20, 0, 0)]]\n",
      "[['BTC', '$456.46', datetime.datetime(2014, 4, 27, 0, 0)]]\n",
      "[['BTC', '$435.57', datetime.datetime(2014, 5, 4, 0, 0)]]\n",
      "[['BTC', '$450.49', datetime.datetime(2014, 5, 11, 0, 0)]]\n",
      "[['BTC', '$448.86', datetime.datetime(2014, 5, 18, 0, 0)]]\n",
      "[['BTC', '$549.41', datetime.datetime(2014, 5, 25, 0, 0)]]\n",
      "[['BTC', '$639.88', datetime.datetime(2014, 6, 1, 0, 0)]]\n",
      "[['BTC', '$656.65', datetime.datetime(2014, 6, 8, 0, 0)]]\n",
      "[['BTC', '$568.19', datetime.datetime(2014, 6, 15, 0, 0)]]\n",
      "[['BTC', '$602.59', datetime.datetime(2014, 6, 22, 0, 0)]]\n",
      "[['BTC', '$600.02', datetime.datetime(2014, 6, 29, 0, 0)]]\n",
      "[['BTC', '$634.20', datetime.datetime(2014, 7, 6, 0, 0)]]\n",
      "[['BTC', '$629.18', datetime.datetime(2014, 7, 13, 0, 0)]]\n",
      "[['BTC', '$625.81', datetime.datetime(2014, 7, 20, 0, 0)]]\n",
      "[['BTC', '$595.85', datetime.datetime(2014, 7, 27, 0, 0)]]\n",
      "[['BTC', '$584.79', datetime.datetime(2014, 8, 3, 0, 0)]]\n",
      "[['BTC', '$589.79', datetime.datetime(2014, 8, 10, 0, 0)]]\n",
      "[['BTC', '$512.18', datetime.datetime(2014, 8, 17, 0, 0)]]\n",
      "[['BTC', '$501.44', datetime.datetime(2014, 8, 24, 0, 0)]]\n",
      "[['BTC', '$497.47', datetime.datetime(2014, 8, 31, 0, 0)]]\n"
     ]
    }
   ],
   "source": [
    "\n",
    "price_data = []\n",
    "for url in urls:\n",
    "    r = requests.get(url)\n",
    "    soup = BeautifulSoup(r.text, 'html5lib')\n",
    "    output = find_crypto_information(soup)\n",
    "    price_data.append(output)\n",
    "        \n",
    "        \n",
    "    "
   ]
  },
  {
   "cell_type": "code",
   "execution_count": null,
   "metadata": {},
   "outputs": [],
   "source": []
  },
  {
   "cell_type": "code",
   "execution_count": null,
   "metadata": {},
   "outputs": [],
   "source": []
  },
  {
   "cell_type": "code",
   "execution_count": null,
   "metadata": {},
   "outputs": [],
   "source": []
  },
  {
   "cell_type": "code",
   "execution_count": null,
   "metadata": {},
   "outputs": [],
   "source": []
  }
 ],
 "metadata": {
  "kernelspec": {
   "display_name": "Python 3",
   "language": "python",
   "name": "python3"
  },
  "language_info": {
   "codemirror_mode": {
    "name": "ipython",
    "version": 3
   },
   "file_extension": ".py",
   "mimetype": "text/x-python",
   "name": "python",
   "nbconvert_exporter": "python",
   "pygments_lexer": "ipython3",
   "version": "3.6.5"
  }
 },
 "nbformat": 4,
 "nbformat_minor": 2
}
