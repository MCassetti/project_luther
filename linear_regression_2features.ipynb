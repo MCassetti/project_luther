{
 "cells": [
  {
   "cell_type": "code",
   "execution_count": 42,
   "metadata": {},
   "outputs": [],
   "source": [
    "# Sample linear regression with current data\n",
    "import pandas as pd\n",
    "import os\n",
    "import statsmodels.api as sm\n",
    "import numpy as np\n",
    "import matplotlib \n",
    "import matplotlib.pyplot as plt\n",
    "from sklearn.linear_model import LinearRegression\n",
    "\n",
    "\n",
    "%matplotlib inline\n",
    "path = os.system('pwd')\n",
    "df = pd.read_pickle('btc_price_1yrs.pkl',compression='bz2')"
   ]
  },
  {
   "cell_type": "code",
   "execution_count": 43,
   "metadata": {},
   "outputs": [],
   "source": [
    "temp = df[0]\n",
    "tmp = temp.tolist()\n",
    "btc_dict = {}\n",
    "prices = [float(''.join(x[1].split('$'))) for x in tmp]\n",
    "dates = [x[2] for x in tmp]\n",
    "btc_dict['dates'] = dates\n",
    "btc_dict['prices'] = prices\n",
    "btc_df = pd.DataFrame(btc_dict)\n",
    "btc_df.head()\n",
    "\n",
    "y_values = pd.Series(prices)"
   ]
  },
  {
   "cell_type": "code",
   "execution_count": 44,
   "metadata": {},
   "outputs": [],
   "source": [
    "interest = pd.read_csv('multiTimeline.csv', header=1, names=['Week','worldwide_interest'])\n",
    "interest = np.array(interest.worldwide_interest).reshape(-1,1)\n",
    "x_values = pd.DataFrame(interest)"
   ]
  },
  {
   "cell_type": "code",
   "execution_count": 62,
   "metadata": {},
   "outputs": [
    {
     "data": {
      "text/html": [
       "<table class=\"simpletable\">\n",
       "<caption>OLS Regression Results</caption>\n",
       "<tr>\n",
       "  <th>Dep. Variable:</th>            <td>y</td>        <th>  R-squared:         </th> <td>   0.519</td>\n",
       "</tr>\n",
       "<tr>\n",
       "  <th>Model:</th>                   <td>OLS</td>       <th>  Adj. R-squared:    </th> <td>   0.509</td>\n",
       "</tr>\n",
       "<tr>\n",
       "  <th>Method:</th>             <td>Least Squares</td>  <th>  F-statistic:       </th> <td>   53.86</td>\n",
       "</tr>\n",
       "<tr>\n",
       "  <th>Date:</th>             <td>Fri, 13 Jul 2018</td> <th>  Prob (F-statistic):</th> <td>1.77e-09</td>\n",
       "</tr>\n",
       "<tr>\n",
       "  <th>Time:</th>                 <td>13:20:23</td>     <th>  Log-Likelihood:    </th> <td> -481.83</td>\n",
       "</tr>\n",
       "<tr>\n",
       "  <th>No. Observations:</th>      <td>    52</td>      <th>  AIC:               </th> <td>   967.7</td>\n",
       "</tr>\n",
       "<tr>\n",
       "  <th>Df Residuals:</th>          <td>    50</td>      <th>  BIC:               </th> <td>   971.6</td>\n",
       "</tr>\n",
       "<tr>\n",
       "  <th>Df Model:</th>              <td>     1</td>      <th>                     </th>     <td> </td>   \n",
       "</tr>\n",
       "<tr>\n",
       "  <th>Covariance Type:</th>      <td>nonrobust</td>    <th>                     </th>     <td> </td>   \n",
       "</tr>\n",
       "</table>\n",
       "<table class=\"simpletable\">\n",
       "<tr>\n",
       "    <td></td>       <th>coef</th>     <th>std err</th>      <th>t</th>      <th>P>|t|</th>  <th>[0.025</th>    <th>0.975]</th>  \n",
       "</tr>\n",
       "<tr>\n",
       "  <th>const</th> <td> 4610.6156</td> <td>  578.269</td> <td>    7.973</td> <td> 0.000</td> <td> 3449.128</td> <td> 5772.103</td>\n",
       "</tr>\n",
       "<tr>\n",
       "  <th>0</th>     <td>  124.9394</td> <td>   17.025</td> <td>    7.339</td> <td> 0.000</td> <td>   90.744</td> <td>  159.134</td>\n",
       "</tr>\n",
       "</table>\n",
       "<table class=\"simpletable\">\n",
       "<tr>\n",
       "  <th>Omnibus:</th>       <td> 2.247</td> <th>  Durbin-Watson:     </th> <td>   0.391</td>\n",
       "</tr>\n",
       "<tr>\n",
       "  <th>Prob(Omnibus):</th> <td> 0.325</td> <th>  Jarque-Bera (JB):  </th> <td>   1.415</td>\n",
       "</tr>\n",
       "<tr>\n",
       "  <th>Skew:</th>          <td> 0.107</td> <th>  Prob(JB):          </th> <td>   0.493</td>\n",
       "</tr>\n",
       "<tr>\n",
       "  <th>Kurtosis:</th>      <td> 2.221</td> <th>  Cond. No.          </th> <td>    54.3</td>\n",
       "</tr>\n",
       "</table><br/><br/>Warnings:<br/>[1] Standard Errors assume that the covariance matrix of the errors is correctly specified."
      ],
      "text/plain": [
       "<class 'statsmodels.iolib.summary.Summary'>\n",
       "\"\"\"\n",
       "                            OLS Regression Results                            \n",
       "==============================================================================\n",
       "Dep. Variable:                      y   R-squared:                       0.519\n",
       "Model:                            OLS   Adj. R-squared:                  0.509\n",
       "Method:                 Least Squares   F-statistic:                     53.86\n",
       "Date:                Fri, 13 Jul 2018   Prob (F-statistic):           1.77e-09\n",
       "Time:                        13:20:23   Log-Likelihood:                -481.83\n",
       "No. Observations:                  52   AIC:                             967.7\n",
       "Df Residuals:                      50   BIC:                             971.6\n",
       "Df Model:                           1                                         \n",
       "Covariance Type:            nonrobust                                         \n",
       "==============================================================================\n",
       "                 coef    std err          t      P>|t|      [0.025      0.975]\n",
       "------------------------------------------------------------------------------\n",
       "const       4610.6156    578.269      7.973      0.000    3449.128    5772.103\n",
       "0            124.9394     17.025      7.339      0.000      90.744     159.134\n",
       "==============================================================================\n",
       "Omnibus:                        2.247   Durbin-Watson:                   0.391\n",
       "Prob(Omnibus):                  0.325   Jarque-Bera (JB):                1.415\n",
       "Skew:                           0.107   Prob(JB):                        0.493\n",
       "Kurtosis:                       2.221   Cond. No.                         54.3\n",
       "==============================================================================\n",
       "\n",
       "Warnings:\n",
       "[1] Standard Errors assume that the covariance matrix of the errors is correctly specified.\n",
       "\"\"\""
      ]
     },
     "execution_count": 62,
     "metadata": {},
     "output_type": "execute_result"
    }
   ],
   "source": [
    "model2 = sm.OLS(y_values,sm.add_constant(x_values)).fit()\n",
    "model2.summary()"
   ]
  },
  {
   "cell_type": "code",
   "execution_count": 63,
   "metadata": {},
   "outputs": [
    {
     "data": {
      "text/plain": [
       "<matplotlib.axes._subplots.AxesSubplot at 0x1c17f51f60>"
      ]
     },
     "execution_count": 63,
     "metadata": {},
     "output_type": "execute_result"
    },
    {
     "data": {
      "image/png": "[encoded data removed]",
      "text/plain": [
       "<Figure size 864x576 with 1 Axes>"
      ]
     },
     "metadata": {},
     "output_type": "display_data"
    }
   ],
   "source": [
    "model2.resid.plot(style='o', figsize=(12,8))"
   ]
  },
  {
   "cell_type": "code",
   "execution_count": 47,
   "metadata": {},
   "outputs": [
    {
     "data": {
      "text/plain": [
       "0.5185695955087611"
      ]
     },
     "execution_count": 47,
     "metadata": {},
     "output_type": "execute_result"
    }
   ],
   "source": [
    "from sklearn.cross_validation import train_test_split\n",
    "\n",
    "\n",
    "model= LinearRegression()\n",
    "model.fit(x_values,y_values)\n",
    "model.score(x_values,y_values)\n",
    "# plot the model and the points\n",
    " "
   ]
  },
  {
   "cell_type": "code",
   "execution_count": 36,
   "metadata": {},
   "outputs": [],
   "source": [
    "def plot_predict_and_points(x_values, y_values, model):\n",
    "    y_predict = model.predict(x_values)\n",
    "\n",
    "    plt.plot(x_values[:,0], y_values, 'ro')\n",
    "    plt.plot(x_values[:,0], y_predict, 'b--')\n",
    "    plt.xlabel('x')\n",
    "    plt.ylabel('y')\n",
    "\n",
    "#plot_predict_and_points(prices, interest.reshape(1,-1), model)\n",
    "#plt.title('This IS the line that best fits the data');"
   ]
  },
  {
   "cell_type": "code",
   "execution_count": 49,
   "metadata": {},
   "outputs": [
    {
     "data": {
      "text/plain": [
       "-0.47526162888585755"
      ]
     },
     "execution_count": 49,
     "metadata": {},
     "output_type": "execute_result"
    }
   ],
   "source": [
    "#Split the data 80-20 train/test, specific random seed\n",
    "x_train, x_test, y_train, y_test = train_test_split(interest, prices, test_size=0.2,random_state=42)\n",
    "# using cross validation\n",
    "model.fit(x_train,y_train)\n",
    "model.score(x_test,y_test)"
   ]
  },
  {
   "cell_type": "code",
   "execution_count": 76,
   "metadata": {},
   "outputs": [
    {
     "data": {
      "image/png": "[encoded data removed]",
      "text/plain": [
       "<Figure size 432x288 with 1 Axes>"
      ]
     },
     "metadata": {},
     "output_type": "display_data"
    }
   ],
   "source": [
    "plot_predict_and_points(interest, prices, model)\n",
    "plt.title('This IS the line that best fits the data');"
   ]
  },
  {
   "cell_type": "code",
   "execution_count": 51,
   "metadata": {},
   "outputs": [],
   "source": [
    "# Second Feature - Nvidia graphics card 1070 price over last year"
   ]
  },
  {
   "cell_type": "code",
   "execution_count": 79,
   "metadata": {},
   "outputs": [],
   "source": [
    "pixels = pd.read_csv('1070_downsampled.csv', header=1, names=['pix_x','pix_y'])\n",
    "# these are approximate (make them more accurate by scraping new site)\n",
    "pixel_to_price = 400/120.64\n",
    "pixels_per_week = 62.75/4\n",
    "pixel_date_offset = 305 # this may skew results \n",
    "down_sampled = pixels[pixels['pix_x'] > pixel_date_offset]\n",
    "x = down_sampled['pix_y']*pixel_to_price\n",
    "\n",
    "\n"
   ]
  },
  {
   "cell_type": "code",
   "execution_count": 87,
   "metadata": {},
   "outputs": [],
   "source": [
    "gtx_1070_price = x.tolist()\n",
    "btc_price = prices \n",
    "global_interest = interest \n",
    "\n",
    "new_btc_df = pd.DataFrame(np.column_stack([btc_price, gtx_1070_price, global_interest]), \\\n",
    "                               columns=['btc_price', 'gtx_1070_price', 'global_interest'])\n"
   ]
  },
  {
   "cell_type": "code",
   "execution_count": 88,
   "metadata": {},
   "outputs": [],
   "source": [
    "# Multivariate linear regression start\n",
    "import seaborn as sns\n"
   ]
  },
  {
   "cell_type": "code",
   "execution_count": 89,
   "metadata": {},
   "outputs": [
    {
     "data": {
      "text/plain": [
       "<matplotlib.axes._subplots.AxesSubplot at 0x1c1947b0b8>"
      ]
     },
     "execution_count": 89,
     "metadata": {},
     "output_type": "execute_result"
    },
    {
     "data": {
      "image/png": "[encoded data removed]",
      "text/plain": [
       "<Figure size 432x288 with 2 Axes>"
      ]
     },
     "metadata": {},
     "output_type": "display_data"
    }
   ],
   "source": [
    "sns.heatmap(new_btc_df.corr())"
   ]
  },
  {
   "cell_type": "code",
   "execution_count": 90,
   "metadata": {},
   "outputs": [
    {
     "data": {
      "text/plain": [
       "<seaborn.axisgrid.PairGrid at 0x1c1936ee48>"
      ]
     },
     "execution_count": 90,
     "metadata": {},
     "output_type": "execute_result"
    },
    {
     "data": {
      "image/png": "[encoded data removed]",
      "text/plain": [
       "<Figure size 540x540 with 12 Axes>"
      ]
     },
     "metadata": {},
     "output_type": "display_data"
    }
   ],
   "source": [
    "sns.pairplot(new_btc_df)"
   ]
  },
  {
   "cell_type": "code",
   "execution_count": 114,
   "metadata": {},
   "outputs": [
    {
     "data": {
      "text/html": [
       "<table class=\"simpletable\">\n",
       "<caption>OLS Regression Results</caption>\n",
       "<tr>\n",
       "  <th>Dep. Variable:</th>            <td>y</td>        <th>  R-squared:         </th> <td>   0.711</td>\n",
       "</tr>\n",
       "<tr>\n",
       "  <th>Model:</th>                   <td>OLS</td>       <th>  Adj. R-squared:    </th> <td>   0.699</td>\n",
       "</tr>\n",
       "<tr>\n",
       "  <th>Method:</th>             <td>Least Squares</td>  <th>  F-statistic:       </th> <td>   60.14</td>\n",
       "</tr>\n",
       "<tr>\n",
       "  <th>Date:</th>             <td>Fri, 13 Jul 2018</td> <th>  Prob (F-statistic):</th> <td>6.45e-14</td>\n",
       "</tr>\n",
       "<tr>\n",
       "  <th>Time:</th>                 <td>14:33:44</td>     <th>  Log-Likelihood:    </th> <td> -468.60</td>\n",
       "</tr>\n",
       "<tr>\n",
       "  <th>No. Observations:</th>      <td>    52</td>      <th>  AIC:               </th> <td>   943.2</td>\n",
       "</tr>\n",
       "<tr>\n",
       "  <th>Df Residuals:</th>          <td>    49</td>      <th>  BIC:               </th> <td>   949.1</td>\n",
       "</tr>\n",
       "<tr>\n",
       "  <th>Df Model:</th>              <td>     2</td>      <th>                     </th>     <td> </td>   \n",
       "</tr>\n",
       "<tr>\n",
       "  <th>Covariance Type:</th>      <td>nonrobust</td>    <th>                     </th>     <td> </td>   \n",
       "</tr>\n",
       "</table>\n",
       "<table class=\"simpletable\">\n",
       "<tr>\n",
       "         <td></td>            <th>coef</th>     <th>std err</th>      <th>t</th>      <th>P>|t|</th>  <th>[0.025</th>    <th>0.975]</th>  \n",
       "</tr>\n",
       "<tr>\n",
       "  <th>const</th>           <td> 1.574e+04</td> <td> 2004.382</td> <td>    7.853</td> <td> 0.000</td> <td> 1.17e+04</td> <td> 1.98e+04</td>\n",
       "</tr>\n",
       "<tr>\n",
       "  <th>gtx_1070_price</th>  <td>  -23.4873</td> <td>    4.120</td> <td>   -5.700</td> <td> 0.000</td> <td>  -31.768</td> <td>  -15.207</td>\n",
       "</tr>\n",
       "<tr>\n",
       "  <th>global_interest</th> <td>  138.2141</td> <td>   13.537</td> <td>   10.210</td> <td> 0.000</td> <td>  111.010</td> <td>  165.418</td>\n",
       "</tr>\n",
       "</table>\n",
       "<table class=\"simpletable\">\n",
       "<tr>\n",
       "  <th>Omnibus:</th>       <td> 7.447</td> <th>  Durbin-Watson:     </th> <td>   0.719</td>\n",
       "</tr>\n",
       "<tr>\n",
       "  <th>Prob(Omnibus):</th> <td> 0.024</td> <th>  Jarque-Bera (JB):  </th> <td>   6.778</td>\n",
       "</tr>\n",
       "<tr>\n",
       "  <th>Skew:</th>          <td> 0.671</td> <th>  Prob(JB):          </th> <td>  0.0337</td>\n",
       "</tr>\n",
       "<tr>\n",
       "  <th>Kurtosis:</th>      <td> 4.151</td> <th>  Cond. No.          </th> <td>3.50e+03</td>\n",
       "</tr>\n",
       "</table><br/><br/>Warnings:<br/>[1] Standard Errors assume that the covariance matrix of the errors is correctly specified.<br/>[2] The condition number is large, 3.5e+03. This might indicate that there are<br/>strong multicollinearity or other numerical problems."
      ],
      "text/plain": [
       "<class 'statsmodels.iolib.summary.Summary'>\n",
       "\"\"\"\n",
       "                            OLS Regression Results                            \n",
       "==============================================================================\n",
       "Dep. Variable:                      y   R-squared:                       0.711\n",
       "Model:                            OLS   Adj. R-squared:                  0.699\n",
       "Method:                 Least Squares   F-statistic:                     60.14\n",
       "Date:                Fri, 13 Jul 2018   Prob (F-statistic):           6.45e-14\n",
       "Time:                        14:33:44   Log-Likelihood:                -468.60\n",
       "No. Observations:                  52   AIC:                             943.2\n",
       "Df Residuals:                      49   BIC:                             949.1\n",
       "Df Model:                           2                                         \n",
       "Covariance Type:            nonrobust                                         \n",
       "===================================================================================\n",
       "                      coef    std err          t      P>|t|      [0.025      0.975]\n",
       "-----------------------------------------------------------------------------------\n",
       "const            1.574e+04   2004.382      7.853      0.000    1.17e+04    1.98e+04\n",
       "gtx_1070_price    -23.4873      4.120     -5.700      0.000     -31.768     -15.207\n",
       "global_interest   138.2141     13.537     10.210      0.000     111.010     165.418\n",
       "==============================================================================\n",
       "Omnibus:                        7.447   Durbin-Watson:                   0.719\n",
       "Prob(Omnibus):                  0.024   Jarque-Bera (JB):                6.778\n",
       "Skew:                           0.671   Prob(JB):                       0.0337\n",
       "Kurtosis:                       4.151   Cond. No.                     3.50e+03\n",
       "==============================================================================\n",
       "\n",
       "Warnings:\n",
       "[1] Standard Errors assume that the covariance matrix of the errors is correctly specified.\n",
       "[2] The condition number is large, 3.5e+03. This might indicate that there are\n",
       "strong multicollinearity or other numerical problems.\n",
       "\"\"\""
      ]
     },
     "execution_count": 114,
     "metadata": {},
     "output_type": "execute_result"
    }
   ],
   "source": [
    "y_values = pd.Series(prices)\n",
    "x_values = pd.DataFrame(np.column_stack([gtx_1070_price, global_interest]), \\\n",
    "                               columns=['gtx_1070_price', 'global_interest'])\n",
    "new_btc_df.shape\n",
    "model = sm.OLS(y_values,sm.add_constant(x_values)).fit()\n",
    "model.summary()"
   ]
  },
  {
   "cell_type": "code",
   "execution_count": 115,
   "metadata": {},
   "outputs": [],
   "source": [
    "X = new_btc_df.iloc[:,1:3].values"
   ]
  },
  {
   "cell_type": "code",
   "execution_count": 116,
   "metadata": {},
   "outputs": [
    {
     "data": {
      "text/plain": [
       "Text(0.5,1,'2-Feature residual plot')"
      ]
     },
     "execution_count": 116,
     "metadata": {},
     "output_type": "execute_result"
    },
    {
     "data": {
      "image/png": "[encoded data removed]",
      "text/plain": [
       "<Figure size 432x288 with 1 Axes>"
      ]
     },
     "metadata": {},
     "output_type": "display_data"
    }
   ],
   "source": [
    "#sm.add_constant(X)\n",
    "#y_values\n",
    "predicted = model.predict(sm.add_constant(X))\n",
    "resid = y_values - predicted\n",
    "plt.plot(y_values,resid,'o')\n",
    "plt.xlabel('btc_prices')\n",
    "plt.ylabel('target - predicted')\n",
    "plt.title(\"2-Feature residual plot\")"
   ]
  },
  {
   "cell_type": "code",
   "execution_count": null,
   "metadata": {},
   "outputs": [],
   "source": [
    "#boxcox if not normally distributed "
   ]
  }
 ],
 "metadata": {
  "kernelspec": {
   "display_name": "Python 3",
   "language": "python",
   "name": "python3"
  },
  "language_info": {
   "codemirror_mode": {
    "name": "ipython",
    "version": 3
   },
   "file_extension": ".py",
   "mimetype": "text/x-python",
   "name": "python",
   "nbconvert_exporter": "python",
   "pygments_lexer": "ipython3",
   "version": "3.6.5"
  }
 },
 "nbformat": 4,
 "nbformat_minor": 2
}
