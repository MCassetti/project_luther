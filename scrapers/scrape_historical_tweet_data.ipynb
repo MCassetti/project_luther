{
 "cells": [
  {
   "cell_type": "code",
   "execution_count": 10,
   "metadata": {},
   "outputs": [
    {
     "name": "stdout",
     "output_type": "stream",
     "text": [
      "<selenium.webdriver.remote.webelement.WebElement (session=\"7156e3be25032bc2f3a4fe9e9aa551b7\", element=\"0.6212433319243931-1\")>\n"
     ]
    },
    {
     "data": {
      "text/plain": [
       "<selenium.webdriver.common.action_chains.ActionChains at 0x105597390>"
      ]
     },
     "execution_count": 10,
     "metadata": {},
     "output_type": "execute_result"
    }
   ],
   "source": [
    "from selenium import webdriver\n",
    "from selenium.webdriver.common.keys import Keys\n",
    "from selenium.webdriver.chrome.options import Options\n",
    "from selenium.webdriver.common.by import By\n",
    "from selenium.webdriver.common.action_chains import ActionChains\n",
    "from selenium.webdriver.support import expected_conditions as EC\n",
    "from selenium.webdriver.support.ui import WebDriverWait\n",
    "import time\n",
    "import os\n",
    "\n",
    "chromedriver = \"/Applications/chromedriver\" # path to the chromedriver executable\n",
    "os.environ[\"webdriver.chrome.driver\"] = chromedriver\n",
    "\n",
    "chrome_options = Options()\n",
    "#chrome_options.add_experimental_option('prefs', download_prefs)\n",
    "#chrome_options.add_argument(\"--headless\")\n",
    "chrome_options.add_argument('--window-size=1920x1080')\n",
    "driver = webdriver.Chrome(chrome_options=chrome_options,\n",
    "                           executable_path=chromedriver)\n",
    "\n",
    "driver.get('https://bitinfocharts.com/comparison/tweets-btc.html')\n",
    "\n",
    "\n",
    "action = webdriver.ActionChains(driver)\n",
    "#try:\n",
    "element = WebDriverWait(driver, 10).until(\n",
    "        EC.presence_of_element_located((By.XPATH,'/html/body/div[3]/div[2]')))\n",
    "print(element)\n",
    "hover = action.move_to_element((By.XPATH, '//*[@id=\"container\"]/div[1]/canvas[2]'))\n",
    "wait = WebDriverWait(driver, 2)\n",
    "hover.click()\n",
    "#action.move_to_element((By.XPATH, '//*[@id=\"container\"]')).perform()\n",
    "time.sleep(0.25)\n",
    "#hover.move_by_offset(10,10)\n",
    "    \n",
    "#finally:\n",
    "#driver.quit()\n",
    "\n",
    "\n",
    "\n",
    "\n"
   ]
  },
  {
   "cell_type": "code",
   "execution_count": 9,
   "metadata": {},
   "outputs": [],
   "source": [
    "driver.quit()"
   ]
  },
  {
   "cell_type": "code",
   "execution_count": 1,
   "metadata": {},
   "outputs": [],
   "source": [
    "#var gislog()\n",
    "from bs4 import BeautifulSoup\n",
    "import re\n",
    "import requests \n",
    "import pandas as pd\n",
    "from fuzzywuzzy import fuzz\n",
    "from fuzzywuzzy import process\n",
    "from datetime import datetime\n",
    "from datetime import date,timedelta\n",
    "\n",
    "url = 'https://coinatmradar.com/charts/#growth' \n",
    "r = requests.get(url)\n",
    "soup = BeautifulSoup(r.text, 'html5lib')   \n"
   ]
  },
  {
   "cell_type": "code",
   "execution_count": 3,
   "metadata": {},
   "outputs": [
    {
     "data": {
      "text/plain": [
       "'\\n        var chartData1 = [{\"date\":\"2013-11-01\",\"cnt\":1},{\"date\":\"2013-12-01\",\"cnt\":3},{\"date\":\"2014-01-01\",\"cnt\":4},{\"date\":\"2014-02-01\",\"cnt\":8},{\"date\":\"2014-03-01\",\"cnt\":26},{\"date\":\"2014-04-01\",\"cnt\":51},{\"date\":\"2014-05-01\",\"cnt\":69},{\"date\":\"2014-06-01\",\"cnt\":97},{\"date\":\"2014-07-01\",\"cnt\":141},{\"date\":\"2014-08-01\",\"cnt\":167},{\"date\":\"2014-09-01\",\"cnt\":214},{\"date\":\"2014-10-01\",\"cnt\":251},{\"date\":\"2014-11-01\",\"cnt\":281},{\"date\":\"2014-12-01\",\"cnt\":298},{\"date\":\"2015-01-01\",\"cnt\":328},{\"date\":\"2015-02-01\",\"cnt\":330},{\"date\":\"2015-03-01\",\"cnt\":349},{\"date\":\"2015-04-01\",\"cnt\":360},{\"date\":\"2015-05-01\",\"cnt\":372},{\"date\":\"2015-06-01\",\"cnt\":396},{\"date\":\"2015-07-01\",\"cnt\":415},{\"date\":\"2015-08-01\",\"cnt\":438},{\"date\":\"2015-09-01\",\"cnt\":442},{\"date\":\"2015-10-01\",\"cnt\":456},{\"date\":\"2015-11-01\",\"cnt\":452},{\"date\":\"2015-12-01\",\"cnt\":455},{\"date\":\"2016-01-01\",\"cnt\":504},{\"date\":\"2016-02-01\",\"cnt\":535},{\"date\":\"2016-03-01\",\"cnt\":550},{\"date\":\"2016-04-01\",\"cnt\":579},{\"date\":\"2016-05-01\",\"cnt\":609},{\"date\":\"2016-06-01\",\"cnt\":639},{\"date\":\"2016-07-01\",\"cnt\":671},{\"date\":\"2016-08-01\",\"cnt\":697},{\"date\":\"2016-09-01\",\"cnt\":759},{\"date\":\"2016-10-01\",\"cnt\":800},{\"date\":\"2016-11-01\",\"cnt\":844},{\"date\":\"2016-12-01\",\"cnt\":900},{\"date\":\"2017-01-01\",\"cnt\":953},{\"date\":\"2017-02-01\",\"cnt\":992},{\"date\":\"2017-03-01\",\"cnt\":1080},{\"date\":\"2017-04-01\",\"cnt\":1138},{\"date\":\"2017-05-01\",\"cnt\":1188},{\"date\":\"2017-06-01\",\"cnt\":1268},{\"date\":\"2017-07-01\",\"cnt\":1375},{\"date\":\"2017-08-01\",\"cnt\":1447},{\"date\":\"2017-09-01\",\"cnt\":1561},{\"date\":\"2017-10-01\",\"cnt\":1661},{\"date\":\"2017-11-01\",\"cnt\":1824},{\"date\":\"2017-12-01\",\"cnt\":1956},{\"date\":\"2018-01-01\",\"cnt\":2095},{\"date\":\"2018-02-01\",\"cnt\":2242},{\"date\":\"2018-03-01\",\"cnt\":2453},{\"date\":\"2018-04-01\",\"cnt\":2713},{\"date\":\"2018-05-01\",\"cnt\":2952},{\"date\":\"2018-06-01\",\"cnt\":3184},{\"date\":\"2018-07-01\",\"cnt\":3422},{\"date\":\"2018-07-16\",\"cnt\":3475}];\\n        var chart1 = AmCharts.makeChart(\"chartdiv1\", {\\n            \"type\": \"serial\",\\n        \\t\"theme\": \"none\",\\n            \"pathToImages\": \"/img/amcharts/\",\\n            \"dataProvider\": chartData1,\\n            \"valueAxes\": [{\\n                \"position\": \"left\",\\n                \"title\": \"Bitcoin ATMs Number\"\\n            }],\\n            \"graphs\": [{\\n                \"fillAlphas\": 0.8,\\n                \"valueField\": \"cnt\",\\n                \"balloonColor\": \"#0D8ECF\",\\n                \"fillColors\": \"#FFC000\"\\n            }],\\n            \"chartScrollbar\": {},\\n            \"chartCursor\": {\\n                \"categoryBalloonDateFormat\": \"DD MMMM\",\\n                \"cursorPosition\": \"mouse\"\\n            },\\n            \"categoryField\": \"date\",\\n            \"categoryAxis\": {\\n                \"minPeriod\": \"mm\",\\n                \"parseDates\": true\\n            },\\n            \"chartCursor\": {\\n                \"cursorColor\":\"#0D8ECF\"\\n            }\\n        });\\n\\n        var chartData2 = [{\"cnt\":1170,\"name\":\"Genesis Coin\"},{\"cnt\":971,\"name\":\"General Bytes\"},{\"cnt\":389,\"name\":\"Lamassu\"},{\"cnt\":210,\"name\":\"BitAccess\"},{\"cnt\":178,\"name\":\"Coinsource\"},{\"cnt\":119,\"name\":\"Covault\"},{\"cnt\":72,\"name\":\"BitXatm\"},{\"cnt\":367,\"name\":\"Other\"}];\\n        var chart2 = AmCharts.makeChart(\"chartdiv2\", {\\n        \"type\": \"pie\",\\n    \\t\"theme\": \"none\",\\n        \"dataProvider\": chartData2,\\n        \"valueField\": \"cnt\",\\n        \"titleField\": \"name\",\\n    \\t\"exportConfig\":{\\n          menuItems: [{\\n          icon: \\'/img/amcharts/export.png\\',\\n          format: \\'png\\'\\n          }]\\n    \\t}\\n        });\\n\\n        var chartData3 = [{\"cnt\":2558,\"name\":\"North America\"},{\"cnt\":762,\"name\":\"Europe\"},{\"cnt\":74,\"name\":\"Asia\"},{\"cnt\":52,\"name\":\"Oceania\"},{\"cnt\":23,\"name\":\"South America\"},{\"cnt\":7,\"name\":\"Africa\"}];\\n        var chart3 = AmCharts.makeChart(\"chartdiv3\", {\\n        \"type\": \"pie\",\\n    \\t\"theme\": \"none\",\\n        \"dataProvider\": chartData3,\\n        \"valueField\": \"cnt\",\\n        \"titleField\": \"name\",\\n    \\t\"exportConfig\":{\\n          menuItems: [{\\n          icon: \\'/img/amcharts/export.png\\',\\n          format: \\'png\\'\\n          }]\\n    \\t}\\n        });\\n\\n\\n        var chartData6 = [{\"cnt\":2224,\"name\":\"One-Way\"},{\"cnt\":1252,\"name\":\"Two-Way\"}];\\n        var chart6 = AmCharts.makeChart(\"chartdiv6\", {\\n        \"type\": \"pie\",\\n    \\t\"theme\": \"none\",\\n        \"dataProvider\": chartData6,\\n        \"valueField\": \"cnt\",\\n        \"titleField\": \"name\",\\n        \"colors\": [\"#FF9E01\",\"#0D8ECF\"],\\n    \\t\"exportConfig\":{\\n          menuItems: [{\\n          icon: \\'/img/amcharts/export.png\\',\\n          format: \\'png\\'\\n          }]\\n    \\t}\\n        });\\n\\n        var chartData4 = [{\"cnt\":2008,\"name\":\"United States\"},{\"cnt\":517,\"name\":\"Canada\"},{\"cnt\":203,\"name\":\"Austria\"},{\"cnt\":164,\"name\":\"United Kingdom\"},{\"cnt\":61,\"name\":\"Russian Federation\"},{\"cnt\":55,\"name\":\"Czech Republic\"},{\"cnt\":52,\"name\":\"Spain\"},{\"cnt\":49,\"name\":\"Australia\"},{\"cnt\":30,\"name\":\"Slovakia\"},{\"cnt\":29,\"name\":\"Switzerland\"},{\"cnt\":25,\"name\":\"Italy\"},{\"cnt\":22,\"name\":\"Netherlands\"},{\"cnt\":20,\"name\":\"Poland\"},{\"cnt\":19,\"name\":\"Finland\"},{\"cnt\":19,\"name\":\"Hong Kong\"},{\"cnt\":13,\"name\":\"Panama\"},{\"cnt\":12,\"name\":\"Colombia\"},{\"cnt\":10,\"name\":\"Japan\"},{\"cnt\":10,\"name\":\"Singapore\"},{\"cnt\":10,\"name\":\"Mexico\"},{\"cnt\":10,\"name\":\"Slovenia\"},{\"cnt\":9,\"name\":\"Hungary\"},{\"cnt\":8,\"name\":\"Belgium\"},{\"cnt\":8,\"name\":\"Taiwan\"},{\"cnt\":8,\"name\":\"Romania\"},{\"cnt\":7,\"name\":\"Dominican Republic\"},{\"cnt\":7,\"name\":\"Israel\"},{\"cnt\":7,\"name\":\"Greece\"},{\"cnt\":5,\"name\":\"Croatia\"},{\"cnt\":5,\"name\":\"Serbia\"},{\"cnt\":5,\"name\":\"Ukraine\"},{\"cnt\":4,\"name\":\"VietNam\"},{\"cnt\":4,\"name\":\"South Africa\"},{\"cnt\":4,\"name\":\"Kosovo\"},{\"cnt\":3,\"name\":\"Malaysia\"},{\"cnt\":3,\"name\":\"Malta\"},{\"cnt\":3,\"name\":\"Georgia\"},{\"cnt\":3,\"name\":\"Kazakhstan\"},{\"cnt\":2,\"name\":\"Norway\"},{\"cnt\":2,\"name\":\"Chile\"},{\"cnt\":2,\"name\":\"Liechtenstein\"},{\"cnt\":2,\"name\":\"Costa Rica\"},{\"cnt\":2,\"name\":\"Ecuador\"},{\"cnt\":2,\"name\":\"Guam\"},{\"cnt\":2,\"name\":\"France\"},{\"cnt\":2,\"name\":\"Estonia\"},{\"cnt\":2,\"name\":\"New Zealand\"},{\"cnt\":2,\"name\":\"Denmark\"},{\"cnt\":2,\"name\":\"Portugal\"},{\"cnt\":1,\"name\":\"Djibouti\"},{\"cnt\":1,\"name\":\"San Marino\"},{\"cnt\":1,\"name\":\"Iceland\"},{\"cnt\":1,\"name\":\"Bulgaria\"},{\"cnt\":1,\"name\":\"Guatemala\"},{\"cnt\":1,\"name\":\"Ireland\"},{\"cnt\":1,\"name\":\"Saint Kitts and Nevis\"},{\"cnt\":1,\"name\":\"Kenya\"},{\"cnt\":1,\"name\":\"India\"},{\"cnt\":1,\"name\":\"Thailand\"},{\"cnt\":1,\"name\":\"Zimbabwe\"},{\"cnt\":1,\"name\":\"Indonesia\"},{\"cnt\":1,\"name\":\"South Korea\"},{\"cnt\":1,\"name\":\"Barbados\"},{\"cnt\":1,\"name\":\"Anguilla\"},{\"cnt\":1,\"name\":\"Jamaica\"},{\"cnt\":1,\"name\":\"Brazil\"},{\"cnt\":1,\"name\":\"Aruba\"},{\"cnt\":1,\"name\":\"Lithuania\"},{\"cnt\":1,\"name\":\"Cyprus\"},{\"cnt\":1,\"name\":\"Philippines\"},{\"cnt\":1,\"name\":\"Peru\"},{\"cnt\":1,\"name\":\"Mongolia\"}];\\n        var chart4 = AmCharts.makeChart(\"chartdiv4\", {\\n            \"type\": \"serial\",\\n            \"theme\": \"none\",\\n            \"dataProvider\": chartData4,\\n            \"valueAxes\": [{\\n                \"gridColor\":\"#FFFFFF\",\\n        \\t\\t\"gridAlpha\": 0.2,\\n        \\t\\t\"dashLength\": 0\\n            }],\\n            \"gridAboveGraphs\": true,\\n            \"startDuration\": 1,\\n            \"graphs\": [{\\n                \"balloonText\": \"[[category]]: <b>[[value]]</b>\",\\n                \"fillAlphas\": 0.8,\\n                \"type\": \"column\",\\n                \"valueField\": \"cnt\",\\n                \"balloonColor\": \"#FFC000\",\\n                \"fillColors\": \"#FFC000\"\\n            }],\\n            \"chartCursor\": {\\n                \"categoryBalloonEnabled\": false,\\n                \"cursorAlpha\": 0,\\n                \"zoomable\": false\\n            },\\n            \"categoryField\": \"name\",\\n            \"categoryAxis\": {\\n                \"gridPosition\": \"start\",\\n                \"gridAlpha\": 0,\\n                 \"tickPosition\":\"start\",\\n                 \"tickLength\":20,\\n                 \"labelRotation\": 90\\n            },\\n        \\t\"exportConfig\":{\\n        \\t  \"menuTop\": 0,\\n        \\t  \"menuItems\": [{\\n              \"icon\": \\'/img/amcharts/export.png\\',\\n              \"format\": \\'png\\'\\n              }]\\n        \\t}\\n        });\\n\\n        var chart = AmCharts.makeChart(\"chartdiv5\", {\\n            \"type\": \"gauge\",\\n        \\t\"theme\": \"none\",\\n            \"axes\": [{\\n                \"axisThickness\":1,\\n                 \"axisAlpha\":0.2,\\n                 \"tickAlpha\":0.2,\\n                 \"valueInterval\":0.77,\\n                \"bands\": [{\\n                    \"color\": \"#cc4748\",\\n                    \"endValue\": 3.465,\\n                    \"startValue\": 0\\n                }, {\\n                    \"color\": \"#fdd400\",\\n                    \"endValue\": 5.005,\\n                    \"startValue\": 3.465,\\n                    \"innerRadius\": \"97%\"\\n                }, {\\n                    \"color\": \"#84b761\",\\n                    \"endValue\": 8.47,\\n                    \"innerRadius\": \"95%\",\\n                    \"startValue\": 5.005                }],\\n                \"bottomText\": 5.58 + \" Bitcoin ATMs/day\",\\n                \"bottomTextYOffset\": -20,\\n                \"endValue\": 8.47            }],\\n            \"arrows\": [{\"value\":5.58}]\\n        });\\n\\n'"
      ]
     },
     "execution_count": 3,
     "metadata": {},
     "output_type": "execute_result"
    }
   ],
   "source": [
    "data_string = soup.findAll('script')[5].get_text()\n",
    "data_string"
   ]
  },
  {
   "cell_type": "code",
   "execution_count": 225,
   "metadata": {},
   "outputs": [],
   "source": [
    "output = data_string.split('{}')"
   ]
  },
  {
   "cell_type": "code",
   "execution_count": 226,
   "metadata": {},
   "outputs": [],
   "source": [
    "tmp = output[0].split('\"container\"),')[1]"
   ]
  },
  {
   "cell_type": "code",
   "execution_count": 227,
   "metadata": {},
   "outputs": [],
   "source": [
    "block = tmp.split(', {labels:')[0]"
   ]
  },
  {
   "cell_type": "code",
   "execution_count": 282,
   "metadata": {},
   "outputs": [],
   "source": [
    "strs = block.replace('[','').split('],')\n",
    "lists = [list(map(str, s.replace(']','').split(','))) for s in strs]"
   ]
  },
  {
   "cell_type": "code",
   "execution_count": 330,
   "metadata": {},
   "outputs": [],
   "source": [
    "tweets = []\n",
    "def to_datetime(date_str):\n",
    "    ds = date_str.replace('(',')').replace('\\\"','').split(')')[1]\n",
    "    date = datetime.strptime(ds,'%Y/%m/%d')\n",
    "    return date\n",
    "dates = []\n",
    "for i in range(0,len(lists)):\n",
    "    tmp = lists[i][1]\n",
    "    if tmp != 'null':\n",
    "        tweets.append(int(tmp))\n",
    "        dates.append(to_datetime(lists[i][0]))\n",
    "\n",
    "tweets_dict = {}\n",
    "tweets_dict['tweets'] = tweets\n",
    "tweets_dict['dates'] = dates"
   ]
  },
  {
   "cell_type": "code",
   "execution_count": 331,
   "metadata": {},
   "outputs": [],
   "source": [
    "tweets_df = pd.DataFrame(tweets_dict)"
   ]
  },
  {
   "cell_type": "code",
   "execution_count": 332,
   "metadata": {},
   "outputs": [
    {
     "data": {
      "text/html": [
       "<div>\n",
       "<style scoped>\n",
       "    .dataframe tbody tr th:only-of-type {\n",
       "        vertical-align: middle;\n",
       "    }\n",
       "\n",
       "    .dataframe tbody tr th {\n",
       "        vertical-align: top;\n",
       "    }\n",
       "\n",
       "    .dataframe thead th {\n",
       "        text-align: right;\n",
       "    }\n",
       "</style>\n",
       "<table border=\"1\" class=\"dataframe\">\n",
       "  <thead>\n",
       "    <tr style=\"text-align: right;\">\n",
       "      <th></th>\n",
       "      <th>tweets</th>\n",
       "      <th>dates</th>\n",
       "    </tr>\n",
       "  </thead>\n",
       "  <tbody>\n",
       "    <tr>\n",
       "      <th>1498</th>\n",
       "      <td>37804</td>\n",
       "      <td>2018-07-09</td>\n",
       "    </tr>\n",
       "    <tr>\n",
       "      <th>1499</th>\n",
       "      <td>39826</td>\n",
       "      <td>2018-07-10</td>\n",
       "    </tr>\n",
       "    <tr>\n",
       "      <th>1500</th>\n",
       "      <td>39901</td>\n",
       "      <td>2018-07-11</td>\n",
       "    </tr>\n",
       "    <tr>\n",
       "      <th>1501</th>\n",
       "      <td>39007</td>\n",
       "      <td>2018-07-12</td>\n",
       "    </tr>\n",
       "    <tr>\n",
       "      <th>1502</th>\n",
       "      <td>34627</td>\n",
       "      <td>2018-07-13</td>\n",
       "    </tr>\n",
       "  </tbody>\n",
       "</table>\n",
       "</div>"
      ],
      "text/plain": [
       "      tweets      dates\n",
       "1498   37804 2018-07-09\n",
       "1499   39826 2018-07-10\n",
       "1500   39901 2018-07-11\n",
       "1501   39007 2018-07-12\n",
       "1502   34627 2018-07-13"
      ]
     },
     "execution_count": 332,
     "metadata": {},
     "output_type": "execute_result"
    }
   ],
   "source": [
    "tweets_df.tail()"
   ]
  },
  {
   "cell_type": "code",
   "execution_count": 334,
   "metadata": {},
   "outputs": [],
   "source": [
    "tweets_df.to_pickle('tweets4years.pkl')"
   ]
  },
  {
   "cell_type": "code",
   "execution_count": null,
   "metadata": {},
   "outputs": [],
   "source": []
  }
 ],
 "metadata": {
  "kernelspec": {
   "display_name": "Python 3",
   "language": "python",
   "name": "python3"
  },
  "language_info": {
   "codemirror_mode": {
    "name": "ipython",
    "version": 3
   },
   "file_extension": ".py",
   "mimetype": "text/x-python",
   "name": "python",
   "nbconvert_exporter": "python",
   "pygments_lexer": "ipython3",
   "version": "3.6.5"
  }
 },
 "nbformat": 4,
 "nbformat_minor": 2
}
