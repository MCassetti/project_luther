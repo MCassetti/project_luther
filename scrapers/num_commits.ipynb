{
 "cells": [
  {
   "cell_type": "code",
   "execution_count": 1,
   "metadata": {},
   "outputs": [],
   "source": [
    "# btc price - features so far tweets, commits, nvidia stock price\n",
    "import pandas as pd\n",
    "import pickle\n",
    "from datetime import datetime\n",
    "from datetime import date,timedelta"
   ]
  },
  {
   "cell_type": "code",
   "execution_count": 2,
   "metadata": {},
   "outputs": [],
   "source": [
    "df1 = pd.read_csv('btc_commits.csv', names={'commits','dates'})"
   ]
  },
  {
   "cell_type": "code",
   "execution_count": 3,
   "metadata": {},
   "outputs": [],
   "source": [
    "def to_datetimes(date):\n",
    "    return datetime.strptime(date[0],'%Y-%m-%d')\n",
    "\n",
    "\n",
    "commits_dict = {}\n",
    "commits_dict['dates'] = [to_datetimes(el.split(' ')[-1:]) for el in df1.iloc[:,0]]\n",
    "commits_dict['commits'] = [int(''.join(el.split(' ')[-2:-1])) for el in df1.iloc[:,0]]\n"
   ]
  },
  {
   "cell_type": "code",
   "execution_count": 4,
   "metadata": {},
   "outputs": [],
   "source": [
    "commits_df = pd.DataFrame(commits_dict)"
   ]
  },
  {
   "cell_type": "code",
   "execution_count": 6,
   "metadata": {},
   "outputs": [],
   "source": [
    "commits_df.to_pickle('commitsbtcall.pkl')"
   ]
  },
  {
   "cell_type": "code",
   "execution_count": null,
   "metadata": {},
   "outputs": [],
   "source": []
  }
 ],
 "metadata": {
  "kernelspec": {
   "display_name": "Python 3",
   "language": "python",
   "name": "python3"
  },
  "language_info": {
   "codemirror_mode": {
    "name": "ipython",
    "version": 3
   },
   "file_extension": ".py",
   "mimetype": "text/x-python",
   "name": "python",
   "nbconvert_exporter": "python",
   "pygments_lexer": "ipython3",
   "version": "3.6.5"
  }
 },
 "nbformat": 4,
 "nbformat_minor": 2
}
