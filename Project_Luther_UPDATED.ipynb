{
 "cells": [
  {
   "cell_type": "raw",
   "metadata": {},
   "source": [
    "## Project Luther\n",
    "---\n",
    "Predicting the price of bitcoin \n",
    "with nothing to do with underlying market structure of bitcoin itself\n",
    "\n",
    "\n",
    "Social Media:   \n",
    "    \n",
    "* Number of tweets containing bitcoin (twitter api/or webscrape)\n",
    "* Number of tweets contain crypto or other keys words ($hill) (optional)\n",
    "* Number of articles or search containing bitcoin \n",
    "* Google Trends - https://trends.google.com/trends/explore?q=bitcoin\n",
    "\n",
    "Interest in technology:\n",
    "    \n",
    "* Number of commits to github bitcoin https://github.com/bitcoin/bitcoin/ \n",
    "* Attendance at blockchain meet ups (https://coinlauncher.io/blockchain-events/start-date/past_year) \n",
    "* Number of bitcoin wallets (optional)\n",
    "* Number of bitcoin transactions (optional)\n",
    " \n",
    " \n",
    "Economic Climate:    \n",
    "* Price of NVIDA/AMD graphics cards (https://pcpartpicker.com/trends/price/video-card/)    \n",
    "* Stock price NVIDA/AMD \n",
    "\n",
    "* Price of Gold (https://goldprice.org/gold-price-history.html)\n",
    "* Stock Market (https://www.macrotrends.net/1319/dow-jones-100-year-historical-chart)\n",
    "* Inflation of US dollar (https://dqydj.com/inflation-calculator-daily-cpi-1913-present/, https://www.usinflationcalculator.com/)\n",
    "* Number of VISA transactions (optional)\n",
    "\n",
    "Political:\n",
    "*Privacy Breaches (http://www.informationisbeautiful.net/visualizations/worlds-biggest-databreaches-hacks/)\n",
    "\n",
    "Max Features 12\n",
    "Min Features 8\n",
    "Number of features will depend how easy it is to extract data or how necessary it is to make correlations\n",
    "\n",
    "Prediction: Price of bitcoin (coinbase/coinmarketcap)\n"
   ]
  },
  {
   "cell_type": "code",
   "execution_count": null,
   "metadata": {},
   "outputs": [],
   "source": [
    "#Features and some plot by tomorrow, Residual plot, actual versus predicted "
   ]
  },
  {
   "cell_type": "code",
   "execution_count": null,
   "metadata": {},
   "outputs": [],
   "source": []
  }
 ],
 "metadata": {
  "kernelspec": {
   "display_name": "Python 3",
   "language": "python",
   "name": "python3"
  },
  "language_info": {
   "codemirror_mode": {
    "name": "ipython",
    "version": 3
   },
   "file_extension": ".py",
   "mimetype": "text/x-python",
   "name": "python",
   "nbconvert_exporter": "python",
   "pygments_lexer": "ipython3",
   "version": "3.6.5"
  }
 },
 "nbformat": 4,
 "nbformat_minor": 2
}
