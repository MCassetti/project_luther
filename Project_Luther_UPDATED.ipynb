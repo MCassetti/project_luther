{
 "cells": [
  {
   "cell_type": "raw",
   "metadata": {},
   "source": [
    "## Project Luther\n",
    "---\n",
    "Predicting the price of bitcoin \n",
    "with nothing to do with underlying market structure of bitcoin itself\n",
    "\n",
    "\n",
    "Social Media:   \n",
    "    \n",
    "* Number of tweets containing bitcoin (twitter api/or webscrape)\n",
    "* Number of tweets contain crypto or other keys words ($hill)\n",
    "* Number of articles or search containing bitcoin (google trends/)\n",
    "\n",
    "Interest in technology:\n",
    "    \n",
    "* Number of commits to github bitcoin \n",
    "* Attendance at blockchain meet ups (https://coinlauncher.io/blockchain-events/start-date/past_year)\n",
    "* Price of NVIDA/AMD graphics cards (https://pcpartpicker.com/trends/price/video-card/)\n",
    "* Number of bitcoin wallets\n",
    "* Number of bitcoin transactions \n",
    "    \n",
    "Economic Climate:    \n",
    "    \n",
    "* Price of Gold (https://goldprice.org/gold-price-history.html)\n",
    "* Stock Market (https://www.macrotrends.net/1319/dow-jones-100-year-historical-chart)\n",
    "* Inflation of US dollar (https://www.usinflationcalculator.com/)\n",
    "* Number of VISA transactions ()\n",
    "\n",
    "Political:\n",
    "*Privacy Breaches (http://www.informationisbeautiful.net/visualizations/worlds-biggest-databreaches-hacks/)\n",
    "\n",
    "Max Features 12\n",
    "Min Features 8\n",
    "Number of features will depend how easy it is to extract data or how necessary it is to make correlations\n",
    "\n",
    "Prediction: Price of bitcoin (coinbase/coinmarketcap)\n"
   ]
  },
  {
   "cell_type": "raw",
   "metadata": {},
   "source": []
  }
 ],
 "metadata": {
  "kernelspec": {
   "display_name": "Python 3",
   "language": "python",
   "name": "python3"
  },
  "language_info": {
   "codemirror_mode": {
    "name": "ipython",
    "version": 3
   },
   "file_extension": ".py",
   "mimetype": "text/x-python",
   "name": "python",
   "nbconvert_exporter": "python",
   "pygments_lexer": "ipython3",
   "version": "3.6.5"
  }
 },
 "nbformat": 4,
 "nbformat_minor": 2
}
