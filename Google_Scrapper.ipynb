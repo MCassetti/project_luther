{
 "cells": [
  {
   "cell_type": "code",
   "execution_count": 1,
   "metadata": {},
   "outputs": [
    {
     "data": {
      "text/plain": [
       "'/Applications/chromedriver'"
      ]
     },
     "execution_count": 1,
     "metadata": {},
     "output_type": "execute_result"
    }
   ],
   "source": [
    "from selenium import webdriver\n",
    "from selenium.webdriver.common.keys import Keys\n",
    "import time\n",
    "from selenium.webdriver.chrome.options import Options\n",
    "import os\n",
    "chromedriver = \"/Applications/chromedriver\" # path to the chromedriver executable\n",
    "os.environ[\"webdriver.chrome.driver\"] = chromedriver\n",
    "chromedriver"
   ]
  },
  {
   "cell_type": "code",
   "execution_count": 3,
   "metadata": {},
   "outputs": [],
   "source": [
    "url = 'https://trends.google.com/trends/explore?q=bitcoin'"
   ]
  },
  {
   "cell_type": "code",
   "execution_count": 13,
   "metadata": {},
   "outputs": [],
   "source": [
    "# from the website https://bugs.chromium.org/p/chromium/issues/detail?id=696481#c86 \n",
    "def enable_download_in_headless_chrome(browser, chromedriver, download_dir):\n",
    "    #add missing support for chrome \"send_command\"  to selenium webdriver\n",
    "    browser.command_executor._commands[\"send_command\"] = (\"POST\", '/session/$sessionId/chromium/send_command')\n",
    "\n",
    "    params = {'cmd': 'Page.setDownloadBehavior', 'params': {'behavior': 'allow', 'downloadPath': download_dir}}\n",
    "    browser.execute(\"send_command\", params)\n",
    "    \n",
    "# do not prompt for download    \n",
    "\n",
    "download_dir = \"~/github/project_luther\"\n",
    "download_prefs = {'download.default_directory' : download_dir,\n",
    "                  'download.prompt_for_download' : False,\n",
    "                  'profile.default_content_settings.popups' : 0} \n",
    "\n",
    "chrome_options = Options()\n",
    "chrome_options.add_experimental_option('prefs', download_prefs)\n",
    "#chrome_options.add_argument(\"--headless\")\n",
    "chrome_options.add_argument('--window-size=1920x1080')\n",
    "browser = webdriver.Chrome(chrome_options=chrome_options,\n",
    "                           executable_path=chromedriver)\n",
    "\n",
    "\n",
    "enable_download_in_headless_chrome(browser, chromedriver, download_dir)"
   ]
  },
  {
   "cell_type": "code",
   "execution_count": 14,
   "metadata": {},
   "outputs": [],
   "source": [
    "time.sleep(1.0)\n",
    "browser.get(url)\n",
    "time.sleep(6.0)\n",
    "browser.get(url)\n",
    "#button = browser.find_element_by_css_selector('.widget-actions-item.export')\n",
    "#button.click()\n",
    "#time.sleep(10)\n",
    "##browser.quit()"
   ]
  },
  {
   "cell_type": "code",
   "execution_count": 16,
   "metadata": {},
   "outputs": [],
   "source": [
    "browser.find_element_by_css_selector('.widget-actions-item.export').click()"
   ]
  },
  {
   "cell_type": "code",
   "execution_count": 12,
   "metadata": {},
   "outputs": [],
   "source": [
    "browser.close()"
   ]
  },
  {
   "cell_type": "code",
   "execution_count": null,
   "metadata": {},
   "outputs": [],
   "source": []
  },
  {
   "cell_type": "code",
   "execution_count": null,
   "metadata": {},
   "outputs": [],
   "source": []
  },
  {
   "cell_type": "code",
   "execution_count": null,
   "metadata": {},
   "outputs": [],
   "source": []
  }
 ],
 "metadata": {
  "kernelspec": {
   "display_name": "Python 3",
   "language": "python",
   "name": "python3"
  },
  "language_info": {
   "codemirror_mode": {
    "name": "ipython",
    "version": 3
   },
   "file_extension": ".py",
   "mimetype": "text/x-python",
   "name": "python",
   "nbconvert_exporter": "python",
   "pygments_lexer": "ipython3",
   "version": "3.6.5"
  }
 },
 "nbformat": 4,
 "nbformat_minor": 2
}
